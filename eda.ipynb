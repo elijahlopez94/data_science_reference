{
 "cells": [
  {
   "cell_type": "markdown",
   "metadata": {},
   "source": [
    "## EDA"
   ]
  },
  {
   "cell_type": "code",
   "execution_count": null,
   "metadata": {},
   "outputs": [],
   "source": [
    "# Standard Data Science Toolkit\n",
    "import pandas as pd\n",
    "import numpy as np\n",
    "import matplotlib.pyplot as plt\n",
    "%matplotlib inline\n",
    "import seaborn as sns\n",
    "sns.set_style('whitegrid')\n",
    "import category_encoders as ce\n",
    "\n",
    "# Setup to Ignore Version Errors and Deprecations\n",
    "import warnings\n",
    "warnings.filterwarnings(\"ignore\")"
   ]
  },
  {
   "cell_type": "code",
   "execution_count": null,
   "metadata": {},
   "outputs": [],
   "source": [
    "# SQL\n",
    "# Import / Connect\n",
    "import sqlite3\n",
    "conn = sqlite3.connect('data.sqlite')\n",
    "\n",
    "# Query Structure\n",
    "query_schema = \"\"\"\n",
    "SELECT *\n",
    "FROM sqlite_master \n",
    "\"\"\"\n",
    "\n",
    "# Load in Pandas\n",
    "schema_df = pd.read_sql(query_schema, conn)\n",
    "schema_df\n",
    "\n",
    "# Inspect Table Relationships (Determine Key & Foreign IDs)\n",
    "# Get the names of all tables\n",
    "tables = pd.read_sql(\"\"\"\n",
    "    SELECT name \n",
    "    FROM sqlite_master \n",
    "    WHERE type = 'table'\n",
    "\"\"\", conn)\n",
    "\n",
    "# For each table, retrieve and display the schema\n",
    "for table_name in tables['name']:\n",
    "    schema = pd.read_sql(f\"PRAGMA table_info({table_name})\", conn)\n",
    "    print(f\"{table_name.title()} Schema:\")\n",
    "    display(schema)\n",
    "\n"
   ]
  },
  {
   "cell_type": "code",
   "execution_count": null,
   "metadata": {},
   "outputs": [],
   "source": [
    "# Using Numpy Where clause to set condition\n",
    "conditions = [\n",
    "    df['col'] == 'value_1',\n",
    "    df['col'] == 2\n",
    "]\n",
    "\n",
    "outcomes = [1, 2]\n",
    "\n",
    "df['col'] = np.where(conditions, outcomes, 0)       # Other values set to 0"
   ]
  },
  {
   "cell_type": "code",
   "execution_count": null,
   "metadata": {},
   "outputs": [],
   "source": [
    "# Box Plot\n",
    "# Adjust 'target' to match desired outcome\n",
    "for column in num_cols:\n",
    "    plt.figure(figsize=(8, 6))\n",
    "    x = column\n",
    "    y = 'target'\n",
    "    colors = {'Yes': 'coral', 'No': 'lightblue'}\n",
    "    label = column.replace('_', ' ').title()  \n",
    "    \n",
    "    sns.boxplot(x=x, y=y, data=df, palette=colors, hue=y)\n",
    "    plt.title(f\"Distribution of {label} by target\")\n",
    "    plt.xlabel(label)\n",
    "    plt.ylabel('Target groups')\n",
    "    plt.show();"
   ]
  },
  {
   "cell_type": "code",
   "execution_count": null,
   "metadata": {},
   "outputs": [],
   "source": [
    "sns.pairplot(df, y_vars='target_col')"
   ]
  },
  {
   "cell_type": "code",
   "execution_count": null,
   "metadata": {},
   "outputs": [],
   "source": [
    "sns.displot(df['column'], kde=True);"
   ]
  },
  {
   "cell_type": "code",
   "execution_count": null,
   "metadata": {},
   "outputs": [],
   "source": [
    "# Using Group By\n",
    "df.groupby('col_1')['col_2'].agg_func()     # Where agg_func == mean, median, etc.\n",
    "\n",
    "# Using a Pivot Table\n",
    "\"\"\"\n",
    "pivot_table = df.pivot_table(\n",
    "    index='col_1',\n",
    "    values='col_2',\n",
    "    aggfunc='aggfunc'\n",
    ")\n",
    "pivot_table\n",
    "\"\"\""
   ]
  }
 ],
 "metadata": {
  "language_info": {
   "name": "python"
  }
 },
 "nbformat": 4,
 "nbformat_minor": 2
}
