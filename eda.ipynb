{
 "cells": [
  {
   "cell_type": "markdown",
   "metadata": {},
   "source": [
    "## EDA"
   ]
  },
  {
   "cell_type": "code",
   "execution_count": null,
   "metadata": {},
   "outputs": [],
   "source": [
    "sns.pairplot(df, y_vars='target_col')"
   ]
  },
  {
   "cell_type": "code",
   "execution_count": null,
   "metadata": {},
   "outputs": [],
   "source": [
    "sns.displot(df['column'], kde=True);"
   ]
  },
  {
   "cell_type": "code",
   "execution_count": null,
   "metadata": {},
   "outputs": [],
   "source": [
    "# Using Group By\n",
    "df.groupby('col_1')['col_2'].agg_func()     # Where agg_func == mean, median, etc.\n",
    "\n",
    "# Using a Pivot Table\n",
    "\"\"\"\n",
    "pivot_table = df.pivot_table(\n",
    "    index='col_1',\n",
    "    values='col_2',\n",
    "    aggfunc='aggfunc'\n",
    ")\n",
    "pivot_table\n",
    "\"\"\""
   ]
  }
 ],
 "metadata": {
  "language_info": {
   "name": "python"
  }
 },
 "nbformat": 4,
 "nbformat_minor": 2
}
